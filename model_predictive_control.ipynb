{
 "cells": [
  {
   "cell_type": "markdown",
   "metadata": {},
   "source": [
    "# Linear Model Predictive Control with perfect state Knowledge.\n",
    "In this notebook I follow the online tutorial on Model Predictive by Aleksander Haber\n",
    "\n",
    "https://aleksandarhaber.com/model-predictive-control-mpc-tutorial-1-unconstrained-formulation-derivation-and-implementation-in-python-from-scratch/"
   ]
  },
  {
   "cell_type": "code",
   "execution_count": 5,
   "metadata": {},
   "outputs": [],
   "source": [
    "import numpy as np\n",
    "import matplotlib.pyplot as plt"
   ]
  },
  {
   "cell_type": "markdown",
   "metadata": {},
   "source": [
    "### Define Model\n",
    "Simple Spring Damper System with two masses"
   ]
  },
  {
   "cell_type": "code",
   "execution_count": 42,
   "metadata": {},
   "outputs": [],
   "source": [
    "k1 = 100\n",
    "k2 = 100\n",
    "d1 = 0.1\n",
    "d2 = 0.1\n",
    "m1 = 1.0\n",
    "m2 = 1.0\n",
    "\n",
    "# System Evolution Matrix\n",
    "A_c = np.array(\n",
    "    [\n",
    "        [0, 1, 0, 0],\n",
    "        [- (k1 + k2) / m1, - (d1 + d2) / m1, k2 / m1, d2 / m1],\n",
    "        [0, 0, 0, 1],\n",
    "        [k2/m2, d2/m2, -k2/m2, -d2/m2],\n",
    "    ]\n",
    ")\n",
    "\n",
    "# Input Matrix\n",
    "B_c = np.array([\n",
    "    [0],\n",
    "    [0],\n",
    "    [0],\n",
    "    [1/m2]\n",
    "])\n",
    "\n",
    "\n",
    "# Output Matrix\n",
    "C = np.array(\n",
    "    [1, 0, 0, 0]\n",
    ")\n",
    "\n",
    "# Discretization\n",
    "dt = 0.01\n",
    "A = np.linalg.inv(np.eye(4) - dt * A_c)\n",
    "B = dt *  A @ B_c"
   ]
  },
  {
   "cell_type": "code",
   "execution_count": 43,
   "metadata": {},
   "outputs": [
    {
     "data": {
      "text/plain": [
       "(4, 1)"
      ]
     },
     "execution_count": 43,
     "metadata": {},
     "output_type": "execute_result"
    }
   ],
   "source": [
    "B.shape"
   ]
  },
  {
   "cell_type": "code",
   "execution_count": 49,
   "metadata": {},
   "outputs": [],
   "source": [
    "# Simulate the system\n",
    "t = np.linspace(0, 10, 1000)\n",
    "dt = t[1] - t[0]\n",
    "x = np.zeros((4, len(t)))\n",
    "x[:, 0] = np.array([0.1, 0.1, 0.1, 0.1])\n",
    "u = np.zeros((1, len(t)))\n",
    "\n",
    "for i in range(len(t) - 1):\n",
    "    x[:, i + 1] = A @ x[:, i] + B @ u[:, i]\n",
    "    "
   ]
  },
  {
   "cell_type": "code",
   "execution_count": 50,
   "metadata": {},
   "outputs": [
    {
     "data": {
      "text/plain": [
       "[<matplotlib.lines.Line2D at 0x7f96fb6f9a50>]"
      ]
     },
     "execution_count": 50,
     "metadata": {},
     "output_type": "execute_result"
    },
    {
     "data": {
      "image/png": "[encoded data removed]",
      "text/plain": [
       "<Figure size 432x288 with 1 Axes>"
      ]
     },
     "metadata": {
      "needs_background": "light"
     },
     "output_type": "display_data"
    }
   ],
   "source": [
    "plt.plot(t, x[0, :])"
   ]
  },
  {
   "cell_type": "code",
   "execution_count": 1,
   "metadata": {},
   "outputs": [
    {
     "ename": "SyntaxError",
     "evalue": "expected ':' (1147784700.py, line 1)",
     "output_type": "error",
     "traceback": [
      "\u001b[0;36m  File \u001b[0;32m\"/tmp/ipykernel_14319/1147784700.py\"\u001b[0;36m, line \u001b[0;32m1\u001b[0m\n\u001b[0;31m    class MPC\u001b[0m\n\u001b[0m             ^\u001b[0m\n\u001b[0;31mSyntaxError\u001b[0m\u001b[0;31m:\u001b[0m expected ':'\n"
     ]
    }
   ],
   "source": [
    "class MPC:\n",
    "    def __init__(A, B, C, f, v, W3, W4,x0) -> None:\n",
    "        self.A = A\n",
    "        self.B = B\n",
    "        self.C = C\n",
    "        self.f = f\n",
    "        self.v = v\n",
    "        self.W3 = W3\n",
    "        self.W4 = W4\n",
    "        self.x0 = x0\n",
    "\n",
    "        self.n = self.A.shape[0]\n",
    "        self.r = self.C.shape[0]\n",
    "        self.m = self.B.shape[1]\n",
    "\n",
    "        self.states = [x0]\n",
    "        self.inputs = []\n",
    "        self.outputs = [self.C @ x0]\n",
    "\n",
    "        self.O, self.M, self.gainMatrix = self.compute_lifted_system()\n",
    "\n",
    "    def compute_lifted_system(self):\n",
    "        pass\n",
    "\n",
    "        "
   ]
  }
 ],
 "metadata": {
  "kernelspec": {
   "display_name": "Python 3",
   "language": "python",
   "name": "python3"
  },
  "language_info": {
   "codemirror_mode": {
    "name": "ipython",
    "version": 3
   },
   "file_extension": ".py",
   "mimetype": "text/x-python",
   "name": "python",
   "nbconvert_exporter": "python",
   "pygments_lexer": "ipython3",
   "version": "3.9.2"
  },
  "orig_nbformat": 4
 },
 "nbformat": 4,
 "nbformat_minor": 2
}
